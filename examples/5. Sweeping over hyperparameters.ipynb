{
 "cells": [
  {
   "cell_type": "markdown",
   "metadata": {},
   "source": [
    "# Sweeping over hyperparameters"
   ]
  },
  {
   "cell_type": "markdown",
   "metadata": {},
   "source": [
    "I advice you to check [Hydra](https://hydra.cc/docs/intro/)'s website with all its great guides to better understand this notebook, specifically the [multirun](https://hydra.cc/docs/tutorials/basic/running_your_app/multi-run/) guide for this notebook.\n",
    "\n",
    "In this notebook, we will see how to [sweep](https://en.wikipedia.org/wiki/Hyperparameter_optimization) over some particular parameters to get some results from the paper in a one command line.\n",
    "\n",
    "Let's say we want to reproduce the result from the GenFL - FL-SOB - Posterior from Random Prior with different seeds to check the stability of the randomness in the code, and with the two different pac-bayes objective $f_1$ and $f_2$ all in once.\n",
    "\n",
    "Let's create a new directory `./conf/experiment`, in which we will build new configuration files. Let's create `sweep_over_seeds_and_objectives.yaml` in this directory, like this:\n",
    "```yaml\n",
    "# @package _global_\n",
    "\n",
    "hydra:\n",
    "  sweeper:\n",
    "    params:\n",
    "      pbobj.objective: fclassic, fquad\n",
    "      seed: 0, 1, 2, 3, 4\n",
    "```\n",
    "\n",
    "Now let's run the next command line. This will launch 10 runs in total: [pbobj.objective=fclassic, pbobj.objective=fquad] x [seed=0, seed=1, seed=2, seed=3, seed=4] (every couple made by one element from the first set and one element from the second set). For safety and explanatory reasons, we use `dryrun=True` and num_rounds=1.\n",
    "To make all these runs happens, we have to specify `--multirun` in the command line."
   ]
  },
  {
   "cell_type": "code",
   "execution_count": 1,
   "metadata": {},
   "outputs": [
    {
     "name": "stdout",
     "output_type": "stream",
     "text": [
      "/volatile/home/pj273170/Code/PAC_Bayes\n"
     ]
    }
   ],
   "source": [
    "%cd .."
   ]
  },
  {
   "cell_type": "code",
   "execution_count": null,
   "metadata": {},
   "outputs": [],
   "source": [
    "%%bash\n",
    "\n",
    "python GenFL_posterior.py --multirun \\\n",
    "    +scenario=perez_posterior_rand \\\n",
    "    +experiment=sweep_over_seeds_and_objectives \\\n",
    "    dryrun=True \\\n",
    "    num_rounds=1 \\"
   ]
  },
  {
   "cell_type": "markdown",
   "metadata": {},
   "source": [
    "Hydra made a directory `./outputs/GenFL_Posterior/[Date]/[Time]` inside which there are `multirun.yaml` file and 10 differents directories :\n",
    "\n",
    "```bash\n",
    "(main) me@here:./outputs/GenFL_Posterior/2023-11-10/19-15-02$ tree -L 1\n",
    ".\n",
    "├── 0_pbobj.objective=fclassic_seed=0_+scenario=perez_posterior_rand_+experiment=sweep_over_seeds_and_objectives_dryrun=True_num_rounds=1\n",
    "├── 1_pbobj.objective=fclassic_seed=1_+scenario=perez_posterior_rand_+experiment=sweep_over_seeds_and_objectives_dryrun=True_num_rounds=1\n",
    "├── 2_pbobj.objective=fclassic_seed=2_+scenario=perez_posterior_rand_+experiment=sweep_over_seeds_and_objectives_dryrun=True_num_rounds=1\n",
    "├── 3_pbobj.objective=fclassic_seed=3_+scenario=perez_posterior_rand_+experiment=sweep_over_seeds_and_objectives_dryrun=True_num_rounds=1\n",
    "├── 4_pbobj.objective=fclassic_seed=4_+scenario=perez_posterior_rand_+experiment=sweep_over_seeds_and_objectives_dryrun=True_num_rounds=1\n",
    "├── 5_pbobj.objective=fquad_seed=0_+scenario=perez_posterior_rand_+experiment=sweep_over_seeds_and_objectives_dryrun=True_num_rounds=1\n",
    "├── 6_pbobj.objective=fquad_seed=1_+scenario=perez_posterior_rand_+experiment=sweep_over_seeds_and_objectives_dryrun=True_num_rounds=1\n",
    "├── 7_pbobj.objective=fquad_seed=2_+scenario=perez_posterior_rand_+experiment=sweep_over_seeds_and_objectives_dryrun=True_num_rounds=1\n",
    "├── 8_pbobj.objective=fquad_seed=3_+scenario=perez_posterior_rand_+experiment=sweep_over_seeds_and_objectives_dryrun=True_num_rounds=1\n",
    "├── 9_pbobj.objective=fquad_seed=4_+scenario=perez_posterior_rand_+experiment=sweep_over_seeds_and_objectives_dryrun=True_num_rounds=1\n",
    "└── multirun.yaml\n",
    "```\n",
    "\n",
    "## Modify directoy names / Remove redundant information\n",
    "\n",
    "As you can see the names are quite long and redundant. The names are made with the `overrides` values which are the values that differ from the `default` config.\n",
    "It is possible to not print them all thanks to `my_subdir_suffix_impl` function from `./core/utils.py`. This function allow to remove the `overrides` values whose names have a certain regular expression. For instance the `+experiment=sweep_over_seeds_and_objectives` is kind of useless because the information is already contained by `pbobj.objective=XXXX_seed=X`. hence to remove it we can modify the yaml file as:\n",
    "\n",
    "```yaml\n",
    "# @package _global_\n",
    "\n",
    "my_excludes:\n",
    "  experiment: experiment*\n",
    "\n",
    "hydra:\n",
    "  sweeper:\n",
    "    params:\n",
    "      pbobj.objective: fclassic, fquad\n",
    "      seed: 0, 1, 2, 3, 4\n",
    "```"
   ]
  },
  {
   "cell_type": "markdown",
   "metadata": {},
   "source": [
    "This `multirun` functionality is very useful to launch multiple runs in once. This can be used to explore hyperparameters space in a efficient way.\n",
    "It is extremly efficient to use it in combination with a slurm cluster to run all these jobs in a parallel fashion. See the Slurm notebook for more information.\n",
    "\n",
    "In addition, we only saw exhaustive sweeping (grid search) over parameters in this notebook, which can be not efficient. However Hydra offers state-of-the-art algorithms for hyperparameter optimization, see this [page](https://hydra.cc/docs/plugins/nevergrad_sweeper/) for more information."
   ]
  },
  {
   "cell_type": "markdown",
   "metadata": {},
   "source": []
  }
 ],
 "metadata": {
  "kernelspec": {
   "display_name": "main",
   "language": "python",
   "name": "python3"
  },
  "language_info": {
   "codemirror_mode": {
    "name": "ipython",
    "version": 3
   },
   "file_extension": ".py",
   "mimetype": "text/x-python",
   "name": "python",
   "nbconvert_exporter": "python",
   "pygments_lexer": "ipython3",
   "version": "3.10.9"
  }
 },
 "nbformat": 4,
 "nbformat_minor": 2
}
